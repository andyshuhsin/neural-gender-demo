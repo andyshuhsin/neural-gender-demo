{
 "cells": [
  {
   "cell_type": "code",
   "execution_count": 3,
   "metadata": {
    "collapsed": false
   },
   "outputs": [
    {
     "name": "stdout",
     "output_type": "stream",
     "text": [
      "(389, 1024)\n",
      "(389, 2)\n"
     ]
    }
   ],
   "source": [
    "from glob import glob\n",
    "from scipy.misc import imread\n",
    "import numpy as np\n",
    "\n",
    "# load training data\n",
    "\n",
    "images = []\n",
    "genders = []\n",
    "\n",
    "image_paths = glob('./data/girl/*')\n",
    "\n",
    "for i in range(100):\n",
    "    data = \n",
    "    images.append(data)\n",
    "    genders.append((1, 0))\n",
    "\n",
    "image_paths = glob('./data/guy/*')\n",
    "\n",
    "for path in image_paths:\n",
    "    data = imread(path, flatten=True).flatten()\n",
    "    images.append(data)\n",
    "    genders.append((0, 1))\n",
    "\n",
    "images = np.asarray(images)\n",
    "genders = np.asarray(genders)\n",
    "    \n",
    "print(images.shape)\n",
    "print(genders.shape)"
   ]
  },
  {
   "cell_type": "code",
   "execution_count": 4,
   "metadata": {
    "collapsed": false
   },
   "outputs": [
    {
     "name": "stdout",
     "output_type": "stream",
     "text": [
      "Epoch 1/10\n",
      "389/389 [==============================] - 0s - loss: 7.8726 - acc: 0.5116     \n",
      "Epoch 2/10\n",
      "389/389 [==============================] - 0s - loss: 7.8726 - acc: 0.5116     \n",
      "Epoch 3/10\n",
      "389/389 [==============================] - 0s - loss: 7.8726 - acc: 0.5116     \n",
      "Epoch 4/10\n",
      "389/389 [==============================] - 0s - loss: 7.8726 - acc: 0.5116     \n",
      "Epoch 5/10\n",
      "389/389 [==============================] - 0s - loss: 7.8726 - acc: 0.5116     \n",
      "Epoch 6/10\n",
      "389/389 [==============================] - 0s - loss: 7.8726 - acc: 0.5116     \n",
      "Epoch 7/10\n",
      "389/389 [==============================] - 0s - loss: 7.8726 - acc: 0.5116     \n",
      "Epoch 8/10\n",
      "389/389 [==============================] - 0s - loss: 7.8726 - acc: 0.5116     \n",
      "Epoch 9/10\n",
      "389/389 [==============================] - 0s - loss: 7.8726 - acc: 0.5116     \n",
      "Epoch 10/10\n",
      "389/389 [==============================] - 0s - loss: 7.8726 - acc: 0.5116     \n"
     ]
    },
    {
     "data": {
      "text/plain": [
       "<keras.callbacks.History at 0x1129261d0>"
      ]
     },
     "execution_count": 4,
     "metadata": {},
     "output_type": "execute_result"
    }
   ],
   "source": [
    "# Train model\n",
    "\n",
    "from keras.models import Sequential\n",
    "from keras.layers import Dense, Activation\n",
    "\n",
    "model = Sequential([\n",
    "        Dense(100, input_dim=images[0].size, activation='relu'),        \n",
    "        Dense(100, activation='relu'),        \n",
    "        Dense(2, activation='softmax'),\n",
    "    ])\n",
    "\n",
    "model.compile(loss='categorical_crossentropy',\n",
    "              optimizer='adagrad',\n",
    "              metrics=['accuracy'])\n",
    "\n",
    "model.fit(images, genders)"
   ]
  },
  {
   "cell_type": "code",
   "execution_count": 206,
   "metadata": {
    "collapsed": false
   },
   "outputs": [
    {
     "name": "stdout",
     "output_type": "stream",
     "text": [
      "384/389 [============================>.] - ETA: 0s"
     ]
    },
    {
     "data": {
      "text/plain": [
       "[8.2455038644354257, 0.4884318766066838]"
      ]
     },
     "execution_count": 206,
     "metadata": {},
     "output_type": "execute_result"
    }
   ],
   "source": [
    "model.evaluate(images, genders)"
   ]
  }
 ],
 "metadata": {
  "anaconda-cloud": {},
  "kernelspec": {
   "display_name": "Python [conda root]",
   "language": "python",
   "name": "conda-root-py"
  },
  "language_info": {
   "codemirror_mode": {
    "name": "ipython",
    "version": 3
   },
   "file_extension": ".py",
   "mimetype": "text/x-python",
   "name": "python",
   "nbconvert_exporter": "python",
   "pygments_lexer": "ipython3",
   "version": "3.5.2"
  }
 },
 "nbformat": 4,
 "nbformat_minor": 1
}
